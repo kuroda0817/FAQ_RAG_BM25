{
 "cells": [
  {
   "cell_type": "markdown",
   "metadata": {},
   "source": [
    "ライブラリのインポート"
   ]
  },
  {
   "cell_type": "markdown",
   "metadata": {},
   "source": [
    "データの用意"
   ]
  },
  {
   "cell_type": "code",
   "execution_count": 1,
   "metadata": {},
   "outputs": [
    {
     "name": "stdout",
     "output_type": "stream",
     "text": [
      "Requirement already satisfied: openai in /home/kuroda/anaconda3/lib/python3.10/site-packages (1.42.0)\n",
      "Requirement already satisfied: anyio<5,>=3.5.0 in /home/kuroda/anaconda3/lib/python3.10/site-packages (from openai) (3.5.0)\n",
      "Requirement already satisfied: typing-extensions<5,>=4.11 in /home/kuroda/anaconda3/lib/python3.10/site-packages (from openai) (4.12.2)\n",
      "Requirement already satisfied: pydantic<3,>=1.9.0 in /home/kuroda/anaconda3/lib/python3.10/site-packages (from openai) (2.8.2)\n",
      "Requirement already satisfied: sniffio in /home/kuroda/anaconda3/lib/python3.10/site-packages (from openai) (1.2.0)\n",
      "Requirement already satisfied: jiter<1,>=0.4.0 in /home/kuroda/anaconda3/lib/python3.10/site-packages (from openai) (0.5.0)\n",
      "Requirement already satisfied: tqdm>4 in /home/kuroda/anaconda3/lib/python3.10/site-packages (from openai) (4.64.1)\n",
      "Requirement already satisfied: distro<2,>=1.7.0 in /home/kuroda/anaconda3/lib/python3.10/site-packages (from openai) (1.9.0)\n",
      "Requirement already satisfied: httpx<1,>=0.23.0 in /home/kuroda/anaconda3/lib/python3.10/site-packages (from openai) (0.27.2)\n",
      "Requirement already satisfied: idna>=2.8 in /home/kuroda/anaconda3/lib/python3.10/site-packages (from anyio<5,>=3.5.0->openai) (3.4)\n",
      "Requirement already satisfied: httpcore==1.* in /home/kuroda/anaconda3/lib/python3.10/site-packages (from httpx<1,>=0.23.0->openai) (1.0.5)\n",
      "Requirement already satisfied: certifi in /home/kuroda/anaconda3/lib/python3.10/site-packages (from httpx<1,>=0.23.0->openai) (2022.12.7)\n",
      "Requirement already satisfied: h11<0.15,>=0.13 in /home/kuroda/anaconda3/lib/python3.10/site-packages (from httpcore==1.*->httpx<1,>=0.23.0->openai) (0.14.0)\n",
      "Requirement already satisfied: pydantic-core==2.20.1 in /home/kuroda/anaconda3/lib/python3.10/site-packages (from pydantic<3,>=1.9.0->openai) (2.20.1)\n",
      "Requirement already satisfied: annotated-types>=0.4.0 in /home/kuroda/anaconda3/lib/python3.10/site-packages (from pydantic<3,>=1.9.0->openai) (0.7.0)\n",
      "Requirement already satisfied: tiktoken in /home/kuroda/anaconda3/lib/python3.10/site-packages (0.7.0)\n",
      "Requirement already satisfied: regex>=2022.1.18 in /home/kuroda/anaconda3/lib/python3.10/site-packages (from tiktoken) (2022.7.9)\n",
      "Requirement already satisfied: requests>=2.26.0 in /home/kuroda/anaconda3/lib/python3.10/site-packages (from tiktoken) (2.28.1)\n",
      "Requirement already satisfied: idna<4,>=2.5 in /home/kuroda/anaconda3/lib/python3.10/site-packages (from requests>=2.26.0->tiktoken) (3.4)\n",
      "Requirement already satisfied: certifi>=2017.4.17 in /home/kuroda/anaconda3/lib/python3.10/site-packages (from requests>=2.26.0->tiktoken) (2022.12.7)\n",
      "Requirement already satisfied: charset-normalizer<3,>=2 in /home/kuroda/anaconda3/lib/python3.10/site-packages (from requests>=2.26.0->tiktoken) (2.0.4)\n",
      "Requirement already satisfied: urllib3<1.27,>=1.21.1 in /home/kuroda/anaconda3/lib/python3.10/site-packages (from requests>=2.26.0->tiktoken) (1.26.14)\n",
      "Requirement already satisfied: rank_bm25 in /home/kuroda/anaconda3/lib/python3.10/site-packages (0.2.2)\n",
      "Requirement already satisfied: numpy in /home/kuroda/anaconda3/lib/python3.10/site-packages (from rank_bm25) (1.24.4)\n",
      "Requirement already satisfied: janome in /home/kuroda/anaconda3/lib/python3.10/site-packages (0.5.0)\n",
      "Requirement already satisfied: tqdm in /home/kuroda/anaconda3/lib/python3.10/site-packages (4.64.1)\n"
     ]
    }
   ],
   "source": [
    "!pip install openai\n",
    "!pip install tiktoken\n",
    "!pip install rank_bm25\n",
    "!pip install janome\n",
    "!pip install tqdm\n",
    "\n",
    "import json\n",
    "import pandas as pd\n",
    "from openai import OpenAI\n",
    "from rank_bm25 import BM25Okapi\n",
    "from janome.tokenizer import Tokenizer\n",
    "import numpy as np\n",
    "from tqdm import tqdm"
   ]
  },
  {
   "cell_type": "markdown",
   "metadata": {},
   "source": [
    "データのデータフレーム変換"
   ]
  },
  {
   "cell_type": "code",
   "execution_count": 2,
   "metadata": {},
   "outputs": [
    {
     "data": {
      "text/plain": [
       "22794"
      ]
     },
     "execution_count": 2,
     "metadata": {},
     "output_type": "execute_result"
    }
   ],
   "source": [
    "file_path = \"データセットへのパス\"\n",
    "\n",
    "# JSONLファイルを読み込む\n",
    "data = []\n",
    "with open(file_path, 'r', encoding='utf-8') as file:\n",
    "    for line in file:\n",
    "        data.append(json.loads(line))\n",
    "\n",
    "# データをデータフレームに変換\n",
    "df = pd.DataFrame(data)\n",
    "\n",
    "# 特定の列の値が特定の文字列に一致する行を抽出\n",
    "# target_string = '気象庁'\n",
    "# filtered_df = df[df['copyright'].str.contains(target_string)]\n",
    "filtered_df = df\n",
    "# 抽出したデータフレームを表示\n",
    "len(df)\n"
   ]
  },
  {
   "cell_type": "markdown",
   "metadata": {},
   "source": [
    "ベクトル変換"
   ]
  },
  {
   "cell_type": "code",
   "execution_count": 3,
   "metadata": {},
   "outputs": [],
   "source": [
    "client = OpenAI(api_key=\"your-api-key\")\n",
    "\n",
    "def get_embedding(text, model=\"text-embedding-3-large\"):\n",
    "   text = text.replace(\"\\n\", \" \")\n",
    "   return client.embeddings.create(input = [text], model=model).data[0].embedding"
   ]
  },
  {
   "cell_type": "code",
   "execution_count": 4,
   "metadata": {},
   "outputs": [],
   "source": [
    "# 答え用\n",
    "filtered_df[\"Answer_emb\"] = filtered_df.Answer.apply(lambda x: get_embedding(x, model=\"text-embedding-3-large\"))\n",
    "# 質問用\n",
    "filtered_df[\"Question_emb\"] = filtered_df.Question.apply(lambda x: get_embedding(x, model=\"text-embedding-3-large\"))\n",
    "filtered_df.to_csv(\"all_emb2.csv\")"
   ]
  },
  {
   "cell_type": "code",
   "execution_count": 10,
   "metadata": {},
   "outputs": [
    {
     "data": {
      "text/html": [
       "<div>\n",
       "<style scoped>\n",
       "    .dataframe tbody tr th:only-of-type {\n",
       "        vertical-align: middle;\n",
       "    }\n",
       "\n",
       "    .dataframe tbody tr th {\n",
       "        vertical-align: top;\n",
       "    }\n",
       "\n",
       "    .dataframe thead th {\n",
       "        text-align: right;\n",
       "    }\n",
       "</style>\n",
       "<table border=\"1\" class=\"dataframe\">\n",
       "  <thead>\n",
       "    <tr style=\"text-align: right;\">\n",
       "      <th></th>\n",
       "      <th>Question</th>\n",
       "      <th>Answer</th>\n",
       "      <th>copyright</th>\n",
       "      <th>url</th>\n",
       "    </tr>\n",
       "  </thead>\n",
       "  <tbody>\n",
       "    <tr>\n",
       "      <th>0</th>\n",
       "      <td>公共工事について会計検査院はどのように検査をしているのですか。</td>\n",
       "      <td>検査に当たっては、国が行う工事や地方公共団体が国の補助金で行う工事などについて、工事に関する...</td>\n",
       "      <td>会計検査院</td>\n",
       "      <td>https://www.jbaudit.go.jp/general/faq.html</td>\n",
       "    </tr>\n",
       "    <tr>\n",
       "      <th>1</th>\n",
       "      <td>公共工事について会計検査院はどのような指摘をしていますか。</td>\n",
       "      <td>公共工事は、計画、設計、予定価格の積算、契約、施工、しゅん工・引渡し、成果物の利用という一連...</td>\n",
       "      <td>会計検査院</td>\n",
       "      <td>https://www.jbaudit.go.jp/general/faq.html</td>\n",
       "    </tr>\n",
       "    <tr>\n",
       "      <th>2</th>\n",
       "      <td>工事の検査を行うには、専門的な知識が必要だと思いますが、工事検査のために技術系の職員を多く採...</td>\n",
       "      <td>技術系の職員も採用していますが、工事の検査には、技術系以外の職員も多く従事しています。\\n　...</td>\n",
       "      <td>会計検査院</td>\n",
       "      <td>https://www.jbaudit.go.jp/general/faq.html</td>\n",
       "    </tr>\n",
       "    <tr>\n",
       "      <th>3</th>\n",
       "      <td>独立行政法人等はすべて会計検査院の検査対象ですか。</td>\n",
       "      <td>会計検査院の検査対象は、検査院の検査を受けなければならないとされているもの（会計検査院の検査...</td>\n",
       "      <td>会計検査院</td>\n",
       "      <td>https://www.jbaudit.go.jp/general/faq.html</td>\n",
       "    </tr>\n",
       "    <tr>\n",
       "      <th>4</th>\n",
       "      <td>独立行政法人等に対して、どのような検査を行っているのですか。</td>\n",
       "      <td>国の決算を検査する場合も同じですが、その法人の会計について、「正確性、合規性、経済性、効率性...</td>\n",
       "      <td>会計検査院</td>\n",
       "      <td>https://www.jbaudit.go.jp/general/faq.html</td>\n",
       "    </tr>\n",
       "    <tr>\n",
       "      <th>...</th>\n",
       "      <td>...</td>\n",
       "      <td>...</td>\n",
       "      <td>...</td>\n",
       "      <td>...</td>\n",
       "    </tr>\n",
       "    <tr>\n",
       "      <th>22789</th>\n",
       "      <td>ゼロシナリオ以外のシナリオでは、原子力発電に関する事故の補償、除染、廃炉、核廃棄物の処理など...</td>\n",
       "      <td>原子力発電の発電コストには、原子力発電に関する事故の補償、除染、廃炉、核廃棄物の処理などに要...</td>\n",
       "      <td>内閣官房</td>\n",
       "      <td>https://www.cas.go.jp/jp/seisaku/npu/policy09/...</td>\n",
       "    </tr>\n",
       "    <tr>\n",
       "      <th>22790</th>\n",
       "      <td>日本は、諸外国に比して何倍もの値段で天然ガスを購入していると聞いたことがあります。より安価な...</td>\n",
       "      <td>３つのシナリオの経済影響分析等においては、化石燃料の価格については、現在の輸入価格とＩＥＡ（...</td>\n",
       "      <td>内閣官房</td>\n",
       "      <td>https://www.cas.go.jp/jp/seisaku/npu/policy09/...</td>\n",
       "    </tr>\n",
       "    <tr>\n",
       "      <th>22791</th>\n",
       "      <td>意見聴取会は、なぜ１１都市のみの開催だったのですか。もっとたくさんの地域で開催すべきではない...</td>\n",
       "      <td>意見聴取会は、全国主要１０都市及び福島市で開催しました。全国でブロックごとにバランスよく配し...</td>\n",
       "      <td>内閣官房</td>\n",
       "      <td>https://www.cas.go.jp/jp/seisaku/npu/policy09/...</td>\n",
       "    </tr>\n",
       "    <tr>\n",
       "      <th>22792</th>\n",
       "      <td>討論型世論調査とは何ですか。今回、なぜ討論型世論調査を実施することとしたのですか。</td>\n",
       "      <td>討論型世論調査とは、国民の中から無作為で選ばれた皆様に、知識の習得や討議を通じて、課題につい...</td>\n",
       "      <td>内閣官房</td>\n",
       "      <td>https://www.cas.go.jp/jp/seisaku/npu/policy09/...</td>\n",
       "    </tr>\n",
       "    <tr>\n",
       "      <th>22793</th>\n",
       "      <td>討論型世論調査で、結果が恣意的に誘導されるようなことはないのでしょうか。</td>\n",
       "      <td>本調査は、討論型世論調査の専門家である曽根慶應大教授を実行委員長とする「実行委員会」が、政府...</td>\n",
       "      <td>内閣官房</td>\n",
       "      <td>https://www.cas.go.jp/jp/seisaku/npu/policy09/...</td>\n",
       "    </tr>\n",
       "  </tbody>\n",
       "</table>\n",
       "<p>22794 rows × 4 columns</p>\n",
       "</div>"
      ],
      "text/plain": [
       "                                                Question  \\\n",
       "0                        公共工事について会計検査院はどのように検査をしているのですか。   \n",
       "1                          公共工事について会計検査院はどのような指摘をしていますか。   \n",
       "2      工事の検査を行うには、専門的な知識が必要だと思いますが、工事検査のために技術系の職員を多く採...   \n",
       "3                              独立行政法人等はすべて会計検査院の検査対象ですか。   \n",
       "4                         独立行政法人等に対して、どのような検査を行っているのですか。   \n",
       "...                                                  ...   \n",
       "22789  ゼロシナリオ以外のシナリオでは、原子力発電に関する事故の補償、除染、廃炉、核廃棄物の処理など...   \n",
       "22790  日本は、諸外国に比して何倍もの値段で天然ガスを購入していると聞いたことがあります。より安価な...   \n",
       "22791  意見聴取会は、なぜ１１都市のみの開催だったのですか。もっとたくさんの地域で開催すべきではない...   \n",
       "22792          討論型世論調査とは何ですか。今回、なぜ討論型世論調査を実施することとしたのですか。   \n",
       "22793               討論型世論調査で、結果が恣意的に誘導されるようなことはないのでしょうか。   \n",
       "\n",
       "                                                  Answer copyright  \\\n",
       "0      検査に当たっては、国が行う工事や地方公共団体が国の補助金で行う工事などについて、工事に関する...     会計検査院   \n",
       "1      公共工事は、計画、設計、予定価格の積算、契約、施工、しゅん工・引渡し、成果物の利用という一連...     会計検査院   \n",
       "2      技術系の職員も採用していますが、工事の検査には、技術系以外の職員も多く従事しています。\\n　...     会計検査院   \n",
       "3      会計検査院の検査対象は、検査院の検査を受けなければならないとされているもの（会計検査院の検査...     会計検査院   \n",
       "4      国の決算を検査する場合も同じですが、その法人の会計について、「正確性、合規性、経済性、効率性...     会計検査院   \n",
       "...                                                  ...       ...   \n",
       "22789  原子力発電の発電コストには、原子力発電に関する事故の補償、除染、廃炉、核廃棄物の処理などに要...      内閣官房   \n",
       "22790  ３つのシナリオの経済影響分析等においては、化石燃料の価格については、現在の輸入価格とＩＥＡ（...      内閣官房   \n",
       "22791  意見聴取会は、全国主要１０都市及び福島市で開催しました。全国でブロックごとにバランスよく配し...      内閣官房   \n",
       "22792  討論型世論調査とは、国民の中から無作為で選ばれた皆様に、知識の習得や討議を通じて、課題につい...      内閣官房   \n",
       "22793  本調査は、討論型世論調査の専門家である曽根慶應大教授を実行委員長とする「実行委員会」が、政府...      内閣官房   \n",
       "\n",
       "                                                     url  \n",
       "0             https://www.jbaudit.go.jp/general/faq.html  \n",
       "1             https://www.jbaudit.go.jp/general/faq.html  \n",
       "2             https://www.jbaudit.go.jp/general/faq.html  \n",
       "3             https://www.jbaudit.go.jp/general/faq.html  \n",
       "4             https://www.jbaudit.go.jp/general/faq.html  \n",
       "...                                                  ...  \n",
       "22789  https://www.cas.go.jp/jp/seisaku/npu/policy09/...  \n",
       "22790  https://www.cas.go.jp/jp/seisaku/npu/policy09/...  \n",
       "22791  https://www.cas.go.jp/jp/seisaku/npu/policy09/...  \n",
       "22792  https://www.cas.go.jp/jp/seisaku/npu/policy09/...  \n",
       "22793  https://www.cas.go.jp/jp/seisaku/npu/policy09/...  \n",
       "\n",
       "[22794 rows x 4 columns]"
      ]
     },
     "execution_count": 10,
     "metadata": {},
     "output_type": "execute_result"
    }
   ],
   "source": [
    "filtered_df"
   ]
  },
  {
   "cell_type": "markdown",
   "metadata": {},
   "source": [
    "ベクトル検索評価"
   ]
  },
  {
   "cell_type": "code",
   "execution_count": 3,
   "metadata": {},
   "outputs": [
    {
     "data": {
      "text/plain": [
       "(450,)"
      ]
     },
     "execution_count": 3,
     "metadata": {},
     "output_type": "execute_result"
    }
   ],
   "source": [
    "#ベクトルデータ読み込み\n",
    "df_load = pd.read_csv(\"kishocho_emb.csv\")\n",
    "answer=df_load.Answer_emb.apply(eval).apply(np.array)\n",
    "question=df_load.Question_emb.apply(eval).apply(np.array)\n",
    "answer.to_numpy().shape"
   ]
  },
  {
   "cell_type": "code",
   "execution_count": 64,
   "metadata": {},
   "outputs": [
    {
     "name": "stdout",
     "output_type": "stream",
     "text": [
      "ベクトル検索精度: 71.33333333333334 %\n"
     ]
    }
   ],
   "source": [
    "topk=1 #上位何個の中に入っているか\n",
    "count=0\n",
    "\n",
    "def cos_sim(v1, v2):#コサイン類似度\n",
    "    return np.dot(v1, v2) / (np.linalg.norm(v1) * np.linalg.norm(v2))\n",
    "\n",
    "#ベクトル検索精度\n",
    "for x,q in enumerate(question):\n",
    "    hokan_list=[]\n",
    "    for y,a in enumerate(answer):\n",
    "        cos=cos_sim(q,a)\n",
    "        hokan_list.append(cos)\n",
    "    if x in np.argsort(hokan_list)[-topk:][::-1]:\n",
    "        count+=1\n",
    "print(\"ベクトル検索精度:\",count/len(question)*100,\"%\")\n",
    "    "
   ]
  },
  {
   "cell_type": "markdown",
   "metadata": {},
   "source": [
    "キーワード検索精度"
   ]
  },
  {
   "cell_type": "code",
   "execution_count": 14,
   "metadata": {},
   "outputs": [],
   "source": [
    "#テキストデータ読み込み\n",
    "df_load = pd.read_csv(\"kishocho_emb.csv\")\n",
    "answer_texts=df_load.Answer.to_list()\n",
    "question_texts=df_load.Question.to_list()\n",
    "# answer.to_numpy().shape"
   ]
  },
  {
   "cell_type": "code",
   "execution_count": 74,
   "metadata": {},
   "outputs": [
    {
     "name": "stderr",
     "output_type": "stream",
     "text": [
      "100%|██████████| 450/450 [00:03<00:00, 129.53it/s]"
     ]
    },
    {
     "name": "stdout",
     "output_type": "stream",
     "text": [
      "BM25(名詞,動詞,形容詞)精度:  84.66666666666667 %\n"
     ]
    },
    {
     "name": "stderr",
     "output_type": "stream",
     "text": [
      "\n"
     ]
    }
   ],
   "source": [
    "topk=5#上位何個の中に入っているか\n",
    "\n",
    "t=Tokenizer()\n",
    "count=0\n",
    "\n",
    "def tokenize(doc):\n",
    "    return list(t.tokenize(doc, wakati = True))\n",
    "def tokenize_hinshi(doc):\n",
    "    filtered_tokens=[]\n",
    "    for token in t.tokenize(doc):\n",
    "        # 品詞が「名詞」のトークンのみを追加\n",
    "        if token.part_of_speech.split(',')[0] in ['名詞','動詞','形容詞']:\n",
    "            filtered_tokens.append(token.surface)\n",
    "    return filtered_tokens\n",
    "def compute_bm25(corpus, query, k1, b):\n",
    "    bm25 = BM25Okapi(corpus, k1=k1, b=b)\n",
    "    scores = bm25.get_scores(query)\n",
    "    return scores\n",
    "\n",
    "#回答集は先に\n",
    "corpus = answer_texts\n",
    "tokenized_corpus = [tokenize_hinshi(doc) for doc in corpus]\n",
    "# 初期パラメータ\n",
    "k1 = 1.2\n",
    "b = 0.75\n",
    "\n",
    "for num,question_text in enumerate(tqdm(question_texts)):\n",
    "    #  クエリの定義\n",
    "    query = question_text\n",
    "\n",
    "    tokenized_query = tokenize_hinshi(query)\n",
    "\n",
    "    # BM25スコアの計算\n",
    "    bm25_scores = compute_bm25(tokenized_corpus, tokenized_query, k1, b)\n",
    "    if len(bm25_scores)>=topk:\n",
    "        if num in np.argsort(bm25_scores)[-topk:][::-1]:\n",
    "            count+=1\n",
    "    else:\n",
    "        if num in np.argsort(bm25_scores)[-len(bm25_scores):][::-1]:\n",
    "            count+=1\n",
    "print(\"BM25(名詞,動詞,形容詞)精度: \",count/len(corpus)*100,\"%\")\n"
   ]
  },
  {
   "cell_type": "code",
   "execution_count": null,
   "metadata": {},
   "outputs": [],
   "source": []
  }
 ],
 "metadata": {
  "kernelspec": {
   "display_name": "base",
   "language": "python",
   "name": "python3"
  },
  "language_info": {
   "codemirror_mode": {
    "name": "ipython",
    "version": 3
   },
   "file_extension": ".py",
   "mimetype": "text/x-python",
   "name": "python",
   "nbconvert_exporter": "python",
   "pygments_lexer": "ipython3",
   "version": "3.10.9"
  }
 },
 "nbformat": 4,
 "nbformat_minor": 2
}
